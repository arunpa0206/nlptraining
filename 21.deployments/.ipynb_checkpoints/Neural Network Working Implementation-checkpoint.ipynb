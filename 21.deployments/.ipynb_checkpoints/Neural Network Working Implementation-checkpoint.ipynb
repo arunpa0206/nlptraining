{
 "cells": [
  {
   "cell_type": "code",
   "execution_count": 1,
   "metadata": {},
   "outputs": [
    {
     "ename": "ModuleNotFoundError",
     "evalue": "No module named 'sagemaker'",
     "output_type": "error",
     "traceback": [
      "\u001b[0;31m----------------------------------------------\u001b[0m",
      "\u001b[0;31mModuleNotFoundError\u001b[0mTraceback (most recent call last)",
      "\u001b[0;32m<ipython-input-1-504a6d61e82c>\u001b[0m in \u001b[0;36m<module>\u001b[0;34m\u001b[0m\n\u001b[1;32m      1\u001b[0m \u001b[0;32mimport\u001b[0m \u001b[0mos\u001b[0m\u001b[0;34m\u001b[0m\u001b[0;34m\u001b[0m\u001b[0m\n\u001b[0;32m----> 2\u001b[0;31m \u001b[0;32mimport\u001b[0m \u001b[0msagemaker\u001b[0m\u001b[0;34m\u001b[0m\u001b[0;34m\u001b[0m\u001b[0m\n\u001b[0m\u001b[1;32m      3\u001b[0m \u001b[0;32mfrom\u001b[0m \u001b[0msagemaker\u001b[0m \u001b[0;32mimport\u001b[0m \u001b[0mget_execution_role\u001b[0m\u001b[0;34m\u001b[0m\u001b[0;34m\u001b[0m\u001b[0m\n\u001b[1;32m      4\u001b[0m \u001b[0;32mimport\u001b[0m \u001b[0mtensorflow\u001b[0m \u001b[0;32mas\u001b[0m \u001b[0mtf\u001b[0m\u001b[0;34m\u001b[0m\u001b[0;34m\u001b[0m\u001b[0m\n\u001b[1;32m      5\u001b[0m \u001b[0;32mfrom\u001b[0m \u001b[0mtensorflow\u001b[0m \u001b[0;32mimport\u001b[0m \u001b[0mkeras\u001b[0m\u001b[0;34m\u001b[0m\u001b[0;34m\u001b[0m\u001b[0m\n",
      "\u001b[0;31mModuleNotFoundError\u001b[0m: No module named 'sagemaker'"
     ]
    }
   ],
   "source": [
    "import os\n",
    "import sagemaker\n",
    "from sagemaker import get_execution_role\n",
    "import tensorflow as tf\n",
    "from tensorflow import keras"
   ]
  },
  {
   "cell_type": "code",
   "execution_count": 9,
   "metadata": {},
   "outputs": [],
   "source": [
    "import numpy as np\n",
    "import matplotlib.pyplot as plt\n",
    "train_data_X = np.linspace(-1, 1, 100)"
   ]
  },
  {
   "cell_type": "code",
   "execution_count": 10,
   "metadata": {},
   "outputs": [],
   "source": [
    "# y = 4 * x + random values\n",
    "train_data_Y = 4 * train_data_X + np.random.randn(100) * 0.44"
   ]
  },
  {
   "cell_type": "code",
   "execution_count": 11,
   "metadata": {},
   "outputs": [
    {
     "data": {
      "text/plain": [
       "array([-1.        , -0.97979798, -0.95959596, -0.93939394, -0.91919192,\n",
       "       -0.8989899 , -0.87878788, -0.85858586, -0.83838384, -0.81818182,\n",
       "       -0.7979798 , -0.77777778, -0.75757576, -0.73737374, -0.71717172,\n",
       "       -0.6969697 , -0.67676768, -0.65656566, -0.63636364, -0.61616162,\n",
       "       -0.5959596 , -0.57575758, -0.55555556, -0.53535354, -0.51515152,\n",
       "       -0.49494949, -0.47474747, -0.45454545, -0.43434343, -0.41414141,\n",
       "       -0.39393939, -0.37373737, -0.35353535, -0.33333333, -0.31313131,\n",
       "       -0.29292929, -0.27272727, -0.25252525, -0.23232323, -0.21212121,\n",
       "       -0.19191919, -0.17171717, -0.15151515, -0.13131313, -0.11111111,\n",
       "       -0.09090909, -0.07070707, -0.05050505, -0.03030303, -0.01010101,\n",
       "        0.01010101,  0.03030303,  0.05050505,  0.07070707,  0.09090909,\n",
       "        0.11111111,  0.13131313,  0.15151515,  0.17171717,  0.19191919,\n",
       "        0.21212121,  0.23232323,  0.25252525,  0.27272727,  0.29292929,\n",
       "        0.31313131,  0.33333333,  0.35353535,  0.37373737,  0.39393939,\n",
       "        0.41414141,  0.43434343,  0.45454545,  0.47474747,  0.49494949,\n",
       "        0.51515152,  0.53535354,  0.55555556,  0.57575758,  0.5959596 ,\n",
       "        0.61616162,  0.63636364,  0.65656566,  0.67676768,  0.6969697 ,\n",
       "        0.71717172,  0.73737374,  0.75757576,  0.77777778,  0.7979798 ,\n",
       "        0.81818182,  0.83838384,  0.85858586,  0.87878788,  0.8989899 ,\n",
       "        0.91919192,  0.93939394,  0.95959596,  0.97979798,  1.        ])"
      ]
     },
     "execution_count": 11,
     "metadata": {},
     "output_type": "execute_result"
    }
   ],
   "source": [
    "train_data_X"
   ]
  },
  {
   "cell_type": "code",
   "execution_count": 12,
   "metadata": {},
   "outputs": [
    {
     "data": {
      "text/plain": [
       "array([-4.17158048, -3.94961413, -4.1367804 , -2.68574497, -2.70713098,\n",
       "       -3.69600635, -3.19841779, -3.77137181, -3.07541167, -2.7635339 ,\n",
       "       -2.78254726, -2.49934795, -2.70025193, -3.13589637, -2.74317709,\n",
       "       -2.63848444, -2.28586424, -2.13559092, -1.89562211, -2.20980634,\n",
       "       -1.54750596, -1.64029952, -1.28864389, -2.31876612, -2.38403372,\n",
       "       -1.49471367, -1.90411725, -1.56867998, -1.76571198, -1.80659928,\n",
       "       -2.81021579, -1.13066927, -1.64156203, -1.32505471, -0.90557992,\n",
       "       -1.09035192, -1.14110957, -1.14532326, -1.22056767, -0.33352096,\n",
       "       -1.28742601, -0.88064965, -0.95570121, -0.80843058, -0.23485561,\n",
       "        0.34825699,  0.35123361, -0.30124383,  0.33862914,  0.50678011,\n",
       "        0.10022505, -0.47724829,  0.29708697,  0.54941005,  0.21600791,\n",
       "        0.82526966, -0.10878106,  1.20888617,  0.70723631,  0.86530311,\n",
       "        0.57998601,  0.70880457,  1.13104154,  1.80472275,  1.14891464,\n",
       "        1.77632632,  2.03803247,  1.20943167,  1.51482743,  0.93066008,\n",
       "        1.83212689,  2.20421384,  1.61701731,  2.60515646,  2.74979959,\n",
       "        2.5197424 ,  2.64632406,  1.57012434,  1.76226365,  2.21502151,\n",
       "        2.38836642,  2.32997196,  3.1393278 ,  2.49325382,  2.7938593 ,\n",
       "        3.04740685,  1.79384072,  3.37501249,  3.51636177,  3.40627926,\n",
       "        3.22589295,  3.16560691,  3.67617378,  4.03688934,  3.23755698,\n",
       "        3.13032783,  3.75879377,  4.12227633,  3.47214981,  5.12136629])"
      ]
     },
     "execution_count": 12,
     "metadata": {},
     "output_type": "execute_result"
    }
   ],
   "source": [
    "train_data_Y"
   ]
  },
  {
   "cell_type": "code",
   "execution_count": 14,
   "metadata": {},
   "outputs": [
    {
     "data": {
      "text/plain": [
       "<matplotlib.collections.PathCollection at 0x7fbe800e1640>"
      ]
     },
     "execution_count": 14,
     "metadata": {},
     "output_type": "execute_result"
    },
    {
     "data": {
      "image/png": "[encoded data removed]",
      "text/plain": [
       "<Figure size 432x288 with 1 Axes>"
      ]
     },
     "metadata": {
      "needs_background": "light"
     },
     "output_type": "display_data"
    }
   ],
   "source": [
    "plt.scatter(train_data_X, train_data_Y, label='data', color=['blue'])"
   ]
  },
  {
   "cell_type": "code",
   "execution_count": 17,
   "metadata": {},
   "outputs": [],
   "source": [
    "from keras.models import Sequential\n",
    "from keras.layers import Dense\n",
    "model = Sequential()"
   ]
  },
  {
   "cell_type": "code",
   "execution_count": 25,
   "metadata": {},
   "outputs": [],
   "source": [
    "model.add(Dense(kernel_initializer=\"uniform\", activation=\"linear\", input_dim=1, units=1))"
   ]
  },
  {
   "cell_type": "code",
   "execution_count": 26,
   "metadata": {},
   "outputs": [
    {
     "name": "stdout",
     "output_type": "stream",
     "text": [
      "Model: \"sequential_1\"\n",
      "_________________________________________________________________\n",
      " Layer (type)                Output Shape              Param #   \n",
      "=================================================================\n",
      " dense (Dense)               (None, 1)                 2         \n",
      "                                                                 \n",
      " dense_1 (Dense)             (None, 1)                 2         \n",
      "                                                                 \n",
      " dense_2 (Dense)             (None, 1)                 2         \n",
      "                                                                 \n",
      "=================================================================\n",
      "Total params: 6\n",
      "Trainable params: 6\n",
      "Non-trainable params: 0\n",
      "_________________________________________________________________\n"
     ]
    }
   ],
   "source": [
    "model.summary()"
   ]
  },
  {
   "cell_type": "code",
   "execution_count": 27,
   "metadata": {},
   "outputs": [],
   "source": [
    "model.pop()"
   ]
  },
  {
   "cell_type": "code",
   "execution_count": 28,
   "metadata": {},
   "outputs": [
    {
     "name": "stdout",
     "output_type": "stream",
     "text": [
      "Model: \"sequential_1\"\n",
      "_________________________________________________________________\n",
      " Layer (type)                Output Shape              Param #   \n",
      "=================================================================\n",
      " dense (Dense)               (None, 1)                 2         \n",
      "                                                                 \n",
      " dense_1 (Dense)             (None, 1)                 2         \n",
      "                                                                 \n",
      "=================================================================\n",
      "Total params: 4\n",
      "Trainable params: 4\n",
      "Non-trainable params: 0\n",
      "_________________________________________________________________\n"
     ]
    }
   ],
   "source": [
    "model.summary()"
   ]
  },
  {
   "cell_type": "code",
   "execution_count": 29,
   "metadata": {},
   "outputs": [],
   "source": [
    "model.pop()"
   ]
  },
  {
   "cell_type": "code",
   "execution_count": 30,
   "metadata": {},
   "outputs": [
    {
     "name": "stdout",
     "output_type": "stream",
     "text": [
      "Model: \"sequential_1\"\n",
      "_________________________________________________________________\n",
      " Layer (type)                Output Shape              Param #   \n",
      "=================================================================\n",
      " dense (Dense)               (None, 1)                 2         \n",
      "                                                                 \n",
      "=================================================================\n",
      "Total params: 2\n",
      "Trainable params: 2\n",
      "Non-trainable params: 0\n",
      "_________________________________________________________________\n"
     ]
    }
   ],
   "source": [
    "model.summary()"
   ]
  },
  {
   "cell_type": "code",
   "execution_count": 31,
   "metadata": {},
   "outputs": [],
   "source": [
    "weights = model.layers[0].get_weights()"
   ]
  },
  {
   "cell_type": "code",
   "execution_count": 32,
   "metadata": {},
   "outputs": [
    {
     "data": {
      "text/plain": [
       "[array([[-0.01712524]], dtype=float32), array([0.], dtype=float32)]"
      ]
     },
     "execution_count": 32,
     "metadata": {},
     "output_type": "execute_result"
    }
   ],
   "source": [
    "weights"
   ]
  },
  {
   "cell_type": "code",
   "execution_count": 33,
   "metadata": {},
   "outputs": [
    {
     "name": "stdout",
     "output_type": "stream",
     "text": [
      "4/4 [==============================] - 0s 2ms/step\n"
     ]
    }
   ],
   "source": [
    "result = model.predict(train_data_X)"
   ]
  },
  {
   "cell_type": "code",
   "execution_count": 40,
   "metadata": {},
   "outputs": [
    {
     "data": {
      "image/png": "[encoded data removed]",
      "text/plain": [
       "<Figure size 432x288 with 1 Axes>"
      ]
     },
     "metadata": {
      "needs_background": "light"
     },
     "output_type": "display_data"
    }
   ],
   "source": [
    "plt.scatter(train_data_X, train_data_Y, label='data', color=['red'])\n",
    "plt.plot(train_data_X, result, label='prediction')\n",
    "plt.legend()\n",
    "plt.show()"
   ]
  },
  {
   "cell_type": "code",
   "execution_count": 42,
   "metadata": {},
   "outputs": [
    {
     "name": "stdout",
     "output_type": "stream",
     "text": [
      "Epoch 1/5\n",
      "10/10 [==============================] - 0s 1ms/step - loss: 5.1029\n",
      "Epoch 2/5\n",
      "10/10 [==============================] - 0s 1ms/step - loss: 4.4751\n",
      "Epoch 3/5\n",
      "10/10 [==============================] - 0s 1ms/step - loss: 3.9225\n",
      "Epoch 4/5\n",
      "10/10 [==============================] - 0s 1ms/step - loss: 3.4477\n",
      "Epoch 5/5\n",
      "10/10 [==============================] - 0s 2ms/step - loss: 3.0321\n"
     ]
    },
    {
     "data": {
      "text/plain": [
       "<keras.callbacks.History at 0x7fbe7e0f3d60>"
      ]
     },
     "execution_count": 42,
     "metadata": {},
     "output_type": "execute_result"
    }
   ],
   "source": [
    "model.compile(optimizer='sgd', loss='mse')\n",
    "model.fit(train_data_X, train_data_Y, epochs=5, batch_size=10)"
   ]
  },
  {
   "cell_type": "code",
   "execution_count": null,
   "metadata": {},
   "outputs": [],
   "source": []
  }
 ],
 "metadata": {
  "kernelspec": {
   "display_name": "Python 3",
   "language": "python",
   "name": "python3"
  },
  "language_info": {
   "codemirror_mode": {
    "name": "ipython",
    "version": 3
   },
   "file_extension": ".py",
   "mimetype": "text/x-python",
   "name": "python",
   "nbconvert_exporter": "python",
   "pygments_lexer": "ipython3",
   "version": "3.8.5"
  }
 },
 "nbformat": 4,
 "nbformat_minor": 5
}
