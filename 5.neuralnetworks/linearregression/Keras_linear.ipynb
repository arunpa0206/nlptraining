{
 "cells": [
  {
   "cell_type": "code",
   "execution_count": 1,
   "metadata": {
    "colab": {
     "base_uri": "https://localhost:8080/",
     "height": 1000
    },
    "colab_type": "code",
    "id": "cp3unxbg2UyZ",
    "outputId": "7e7c9d49-55a4-48f9-f7ea-b0c84d5e4435"
   },
   "outputs": [
    {
     "name": "stderr",
     "output_type": "stream",
     "text": [
      "Using TensorFlow backend.\n"
     ]
    },
    {
     "name": "stdout",
     "output_type": "stream",
     "text": [
      "WARNING:tensorflow:From /usr/local/anaconda3/lib/python3.7/site-packages/keras/backend/tensorflow_backend.py:74: The name tf.get_default_graph is deprecated. Please use tf.compat.v1.get_default_graph instead.\n",
      "\n",
      "WARNING:tensorflow:From /usr/local/anaconda3/lib/python3.7/site-packages/keras/backend/tensorflow_backend.py:517: The name tf.placeholder is deprecated. Please use tf.compat.v1.placeholder instead.\n",
      "\n",
      "WARNING:tensorflow:From /usr/local/anaconda3/lib/python3.7/site-packages/keras/backend/tensorflow_backend.py:4138: The name tf.random_uniform is deprecated. Please use tf.random.uniform instead.\n",
      "\n",
      "WARNING:tensorflow:From /usr/local/anaconda3/lib/python3.7/site-packages/keras/optimizers.py:790: The name tf.train.Optimizer is deprecated. Please use tf.compat.v1.train.Optimizer instead.\n",
      "\n",
      "WARNING:tensorflow:From /usr/local/anaconda3/lib/python3.7/site-packages/keras/backend/tensorflow_backend.py:174: The name tf.get_default_session is deprecated. Please use tf.compat.v1.get_default_session instead.\n",
      "\n",
      "WARNING:tensorflow:From /usr/local/anaconda3/lib/python3.7/site-packages/keras/backend/tensorflow_backend.py:181: The name tf.ConfigProto is deprecated. Please use tf.compat.v1.ConfigProto instead.\n",
      "\n",
      "WARNING:tensorflow:From /usr/local/anaconda3/lib/python3.7/site-packages/keras/backend/tensorflow_backend.py:186: The name tf.Session is deprecated. Please use tf.compat.v1.Session instead.\n",
      "\n",
      "WARNING:tensorflow:From /usr/local/anaconda3/lib/python3.7/site-packages/keras/backend/tensorflow_backend.py:190: The name tf.global_variables is deprecated. Please use tf.compat.v1.global_variables instead.\n",
      "\n",
      "WARNING:tensorflow:From /usr/local/anaconda3/lib/python3.7/site-packages/keras/backend/tensorflow_backend.py:199: The name tf.is_variable_initialized is deprecated. Please use tf.compat.v1.is_variable_initialized instead.\n",
      "\n",
      "WARNING:tensorflow:From /usr/local/anaconda3/lib/python3.7/site-packages/keras/backend/tensorflow_backend.py:206: The name tf.variables_initializer is deprecated. Please use tf.compat.v1.variables_initializer instead.\n",
      "\n",
      "Linear regression model is initialized with weights w: 0.49, b: 0.00\n",
      "WARNING:tensorflow:From /usr/local/anaconda3/lib/python3.7/site-packages/keras/backend/tensorflow_backend.py:986: The name tf.assign_add is deprecated. Please use tf.compat.v1.assign_add instead.\n",
      "\n",
      "WARNING:tensorflow:From /usr/local/anaconda3/lib/python3.7/site-packages/keras/backend/tensorflow_backend.py:973: The name tf.assign is deprecated. Please use tf.compat.v1.assign instead.\n",
      "\n",
      "Epoch 1/30\n",
      "200/200 [==============================] - 0s 2ms/step - loss: 0.9538 - mean_squared_error: 0.9538\n",
      "Epoch 2/30\n",
      "200/200 [==============================] - 0s 668us/step - loss: 0.1558 - mean_squared_error: 0.1558\n",
      "Epoch 3/30\n",
      "200/200 [==============================] - 0s 666us/step - loss: 0.1515 - mean_squared_error: 0.1515\n",
      "Epoch 4/30\n",
      "200/200 [==============================] - 0s 666us/step - loss: 0.1475 - mean_squared_error: 0.1475\n",
      "Epoch 5/30\n",
      "200/200 [==============================] - 0s 658us/step - loss: 0.1439 - mean_squared_error: 0.1439\n",
      "Epoch 6/30\n",
      "200/200 [==============================] - 0s 663us/step - loss: 0.1406 - mean_squared_error: 0.1406\n",
      "Epoch 7/30\n",
      "200/200 [==============================] - 0s 658us/step - loss: 0.1375 - mean_squared_error: 0.1375\n",
      "Epoch 8/30\n",
      "200/200 [==============================] - 0s 668us/step - loss: 0.1346 - mean_squared_error: 0.1346\n",
      "Epoch 9/30\n",
      "200/200 [==============================] - 0s 666us/step - loss: 0.1320 - mean_squared_error: 0.1320\n",
      "Epoch 10/30\n",
      "200/200 [==============================] - 0s 669us/step - loss: 0.1296 - mean_squared_error: 0.1296\n",
      "Epoch 11/30\n",
      "200/200 [==============================] - 0s 665us/step - loss: 0.1273 - mean_squared_error: 0.1273\n",
      "Epoch 12/30\n",
      "200/200 [==============================] - 0s 669us/step - loss: 0.1253 - mean_squared_error: 0.1253\n",
      "Epoch 13/30\n",
      "200/200 [==============================] - 0s 670us/step - loss: 0.1234 - mean_squared_error: 0.1234\n",
      "Epoch 14/30\n",
      "200/200 [==============================] - 0s 671us/step - loss: 0.1216 - mean_squared_error: 0.1216\n",
      "Epoch 15/30\n",
      "200/200 [==============================] - 0s 669us/step - loss: 0.1200 - mean_squared_error: 0.1200\n",
      "Epoch 16/30\n",
      "200/200 [==============================] - 0s 668us/step - loss: 0.1185 - mean_squared_error: 0.1185\n",
      "Epoch 17/30\n",
      "200/200 [==============================] - 0s 680us/step - loss: 0.1171 - mean_squared_error: 0.1171\n",
      "Epoch 18/30\n",
      "200/200 [==============================] - 0s 679us/step - loss: 0.1159 - mean_squared_error: 0.1159\n",
      "Epoch 19/30\n",
      "200/200 [==============================] - 0s 669us/step - loss: 0.1147 - mean_squared_error: 0.1147\n",
      "Epoch 20/30\n",
      "200/200 [==============================] - 0s 668us/step - loss: 0.1136 - mean_squared_error: 0.1136\n",
      "Epoch 21/30\n",
      "200/200 [==============================] - 0s 689us/step - loss: 0.1126 - mean_squared_error: 0.1126\n",
      "Epoch 22/30\n",
      "200/200 [==============================] - 0s 671us/step - loss: 0.1117 - mean_squared_error: 0.1117\n",
      "Epoch 23/30\n",
      "200/200 [==============================] - 0s 665us/step - loss: 0.1108 - mean_squared_error: 0.1108\n",
      "Epoch 24/30\n",
      "200/200 [==============================] - 0s 655us/step - loss: 0.1100 - mean_squared_error: 0.1100\n",
      "Epoch 25/30\n",
      "200/200 [==============================] - 0s 680us/step - loss: 0.1093 - mean_squared_error: 0.1093\n",
      "Epoch 26/30\n",
      "200/200 [==============================] - 0s 687us/step - loss: 0.1086 - mean_squared_error: 0.1086\n",
      "Epoch 27/30\n",
      "200/200 [==============================] - 0s 683us/step - loss: 0.1080 - mean_squared_error: 0.1080\n",
      "Epoch 28/30\n",
      "200/200 [==============================] - 0s 683us/step - loss: 0.1074 - mean_squared_error: 0.1074\n",
      "Epoch 29/30\n",
      "200/200 [==============================] - 0s 715us/step - loss: 0.1068 - mean_squared_error: 0.1068\n",
      "Epoch 30/30\n",
      "200/200 [==============================] - 0s 659us/step - loss: 0.1063 - mean_squared_error: 0.1063\n",
      "Linear regression model is trained to have weight w: 3.61, b: 0.68\n"
     ]
    },
    {
     "data": {
      "image/png": "[encoded data removed]",
      "text/plain": [
       "<Figure size 432x288 with 1 Axes>"
      ]
     },
     "metadata": {
      "needs_background": "light"
     },
     "output_type": "display_data"
    }
   ],
   "source": [
    "import keras\n",
    "from keras.models import Sequential\n",
    "from keras.layers import Dense, Activation\n",
    "import numpy as np\n",
    "import matplotlib.pyplot as plt \n",
    "%matplotlib inline\n",
    " \n",
    "x = data = np.linspace(1,2,200)\n",
    "y = x*4 + np.random.randn(*x.shape) * 0.3\n",
    "\n",
    "\n",
    "model = Sequential()\n",
    "model.add(Dense(1, input_dim=1, activation='linear'))\n",
    "\n",
    "model.compile(optimizer='sgd', loss='mse', metrics=['mse'])\n",
    "\n",
    "weights = model.layers[0].get_weights()\n",
    "w_init = weights[0][0][0]\n",
    "b_init = weights[1][0]\n",
    "print('Linear regression model is initialized with weights w: %.2f, b: %.2f' % (w_init, b_init)) \n",
    "\n",
    "\n",
    "model.fit(x,y, batch_size=1, epochs=30, shuffle=False)\n",
    "\n",
    "weights = model.layers[0].get_weights()\n",
    "w_final = weights[0][0][0]\n",
    "b_final = weights[1][0]\n",
    "print('Linear regression model is trained to have weight w: %.2f, b: %.2f' % (w_final, b_final))\n",
    "\n",
    "predict = model.predict(data)\n",
    "\n",
    "plt.plot(data, predict, 'b', data , y, 'k.')\n",
    "plt.show()"
   ]
  },
  {
   "cell_type": "code",
   "execution_count": 0,
   "metadata": {
    "colab": {},
    "colab_type": "code",
    "id": "dWxu1L4I2_WL"
   },
   "outputs": [],
   "source": []
  }
 ],
 "metadata": {
  "colab": {
   "name": "Keras_linear.ipynb",
   "provenance": []
  },
  "kernelspec": {
   "display_name": "Python 3",
   "language": "python",
   "name": "python3"
  },
  "language_info": {
   "codemirror_mode": {
    "name": "ipython",
    "version": 3
   },
   "file_extension": ".py",
   "mimetype": "text/x-python",
   "name": "python",
   "nbconvert_exporter": "python",
   "pygments_lexer": "ipython3",
   "version": "3.7.4"
  }
 },
 "nbformat": 4,
 "nbformat_minor": 1
}
